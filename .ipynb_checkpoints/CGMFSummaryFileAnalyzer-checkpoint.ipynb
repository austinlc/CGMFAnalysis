{
 "cells": [
  {
   "cell_type": "markdown",
   "metadata": {},
   "source": [
    "# CGMF Summary File Analyzer"
   ]
  },
  {
   "cell_type": "markdown",
   "metadata": {},
   "source": [
    "<font size=4em color=\"darkblue\">Austin Carter<sup>a,b</sup>, Patrick Talou<sup>a</sup>, Ionel Stetcu<sup>a</sup></font> <br />\n",
    "<sup>a</sup>Los Alamos National Laboratory <br />\n",
    "<sup>b</sup>University of Michigan<br />\n",
    "\n",
    "<a href=\"mailto:austinlc@umich.edu\">austinlc@umich.edu</a>"
   ]
  },
  {
   "cell_type": "code",
   "execution_count": 71,
   "metadata": {},
   "outputs": [],
   "source": [
    "import numpy as np\n",
    "import scipy as sp\n",
    "import os\n",
    "from statistics import *\n",
    "from datetime import datetime\n",
    "import matplotlib.pyplot as plt\n",
    "import sympy as sym\n",
    "from sympy.interactive import printing\n",
    "printing.init_printing(use_latex = 'mathjax')\n",
    "from IPython.display import display, Math, Latex\n",
    "%matplotlib inline"
   ]
  },
  {
   "cell_type": "code",
   "execution_count": 72,
   "metadata": {
    "collapsed": true
   },
   "outputs": [],
   "source": [
    "# Define summary file path and modify if necessary\n",
    "summary_file_name = \"Summary.txt\"\n",
    "summary_file_path = os.path.join(os.getcwd(),summary_file_name)"
   ]
  },
  {
   "cell_type": "code",
   "execution_count": 73,
   "metadata": {
    "collapsed": true
   },
   "outputs": [],
   "source": [
    "# get data from summary file\n",
    "\n",
    "open_file = open(summary_file_path)\n",
    "lines = open_file.readlines()\n",
    "currentline = 6\n",
    "filenames, nHist, TXE, TXEu, TKE, TKEu, J, Ju, nn, nnm2, nnm3, ng, ngm2, ngm3, En, Enu, Eg, Egu = [],[],[],[],[],[],[],[],[],[],[],[],[],[],[],[],[],[]\n",
    "while True:\n",
    "    data = lines[currentline].split()\n",
    "    filenames.append(data[0])\n",
    "    nHist.append(data[1])\n",
    "    TXE.append(data[2])\n",
    "    TXEu.append(data[3])\n",
    "    TKE.append(data[4])\n",
    "    TKEu.append(data[5])\n",
    "    J.append(data[6])\n",
    "    Ju.append(data[7])\n",
    "    nn.append(data[8])\n",
    "    nnm2.append(data[9])\n",
    "    nnm3.append(data[10])\n",
    "    ng.append(data[11])\n",
    "    ngm2.append(data[12])\n",
    "    ngm3.append(data[13])\n",
    "    En.append(data[14])\n",
    "    Enu.append(data[15])\n",
    "    Eg.append(data[16])\n",
    "    Egu.append(data[17])\n",
    "    currentline += 1\n",
    "    if currentline == len(lines):\n",
    "        break"
   ]
  },
  {
   "cell_type": "code",
   "execution_count": 95,
   "metadata": {},
   "outputs": [],
   "source": [
    "def shorten(s, subs):\n",
    "    i = s.index(subs)\n",
    "    s = s[i+1:]\n",
    "    i = s.index(subs)\n",
    "    return s[:i+len(subs)]\n",
    "\n",
    "def plot_and_report(x_vars, y_vars, x_labels, y_labels):\n",
    "    \n",
    "    #PLOT\n",
    "    \n",
    "    fig = plt.figure(figsize=(18,18))\n",
    "    for i in range(len(y_vars)):  #rows\n",
    "        for j in range(len(x_vars)):   #columns\n",
    "            plt.subplot(len(y_vars),len(x_vars),2*i+j+1)\n",
    "            plt.plot(x_vars[j],y_vars[i] , 'o')\n",
    "            #bottom row, add xlabels\n",
    "            if i == len(y_vars) - 1:\n",
    "                plt.xlabel(x_labels[j])\n",
    "            \n",
    "            #left column, add ylabels\n",
    "            if j == 0:\n",
    "                plt.ylabel(y_labels[i])\n",
    "                \n",
    "    \n",
    "    # REPORT STATISTICS\n",
    "    print(\"Pearson Correlation Coefficients:\")\n",
    "    for i in range(len(y_vars)):\n",
    "        for j in range(len(x_vars)):\n",
    "            display(Math(shorten(x_labels[j], \"$\")))\n",
    "            print(\" and \")\n",
    "            display(Math(shorten(y_labels[i], \"$\")))\n",
    "            print(\" = \")\n",
    "            print(np.corrcoef(np.array(x_vars[j]).astype(float),np.array(y_vars[i]).astype(float))[0][1])\n",
    "                "
   ]
  },
  {
   "cell_type": "code",
   "execution_count": 96,
   "metadata": {},
   "outputs": [
    {
     "name": "stdout",
     "output_type": "stream",
     "text": [
      "Pearson Correlation Coefficients:\n"
     ]
    },
    {
     "data": {
      "text/latex": [
       "$$\\overline{TKE}$$"
      ],
      "text/plain": [
       "<IPython.core.display.Math object>"
      ]
     },
     "metadata": {},
     "output_type": "display_data"
    },
    {
     "name": "stdout",
     "output_type": "stream",
     "text": [
      " and \n"
     ]
    },
    {
     "data": {
      "text/latex": [
       "$$\\overline{\\nu}$$"
      ],
      "text/plain": [
       "<IPython.core.display.Math object>"
      ]
     },
     "metadata": {},
     "output_type": "display_data"
    },
    {
     "name": "stdout",
     "output_type": "stream",
     "text": [
      " = \n",
      "-0.717508047517\n"
     ]
    },
    {
     "data": {
      "text/latex": [
       "$$\\sigma_{TKE}$$"
      ],
      "text/plain": [
       "<IPython.core.display.Math object>"
      ]
     },
     "metadata": {},
     "output_type": "display_data"
    },
    {
     "name": "stdout",
     "output_type": "stream",
     "text": [
      " and \n"
     ]
    },
    {
     "data": {
      "text/latex": [
       "$$\\overline{\\nu}$$"
      ],
      "text/plain": [
       "<IPython.core.display.Math object>"
      ]
     },
     "metadata": {},
     "output_type": "display_data"
    },
    {
     "name": "stdout",
     "output_type": "stream",
     "text": [
      " = \n",
      "0.00520632746533\n"
     ]
    },
    {
     "data": {
      "text/latex": [
       "$$\\overline{TKE}$$"
      ],
      "text/plain": [
       "<IPython.core.display.Math object>"
      ]
     },
     "metadata": {},
     "output_type": "display_data"
    },
    {
     "name": "stdout",
     "output_type": "stream",
     "text": [
      " and \n"
     ]
    },
    {
     "data": {
      "text/latex": [
       "$$\\left \\langle \\nu(\\nu-1) \\right \\rangle$$"
      ],
      "text/plain": [
       "<IPython.core.display.Math object>"
      ]
     },
     "metadata": {},
     "output_type": "display_data"
    },
    {
     "name": "stdout",
     "output_type": "stream",
     "text": [
      " = \n",
      "-0.700157816545\n"
     ]
    },
    {
     "data": {
      "text/latex": [
       "$$\\sigma_{TKE}$$"
      ],
      "text/plain": [
       "<IPython.core.display.Math object>"
      ]
     },
     "metadata": {},
     "output_type": "display_data"
    },
    {
     "name": "stdout",
     "output_type": "stream",
     "text": [
      " and \n"
     ]
    },
    {
     "data": {
      "text/latex": [
       "$$\\left \\langle \\nu(\\nu-1) \\right \\rangle$$"
      ],
      "text/plain": [
       "<IPython.core.display.Math object>"
      ]
     },
     "metadata": {},
     "output_type": "display_data"
    },
    {
     "name": "stdout",
     "output_type": "stream",
     "text": [
      " = \n",
      "0.182637186113\n"
     ]
    },
    {
     "data": {
      "text/latex": [
       "$$\\overline{TKE}$$"
      ],
      "text/plain": [
       "<IPython.core.display.Math object>"
      ]
     },
     "metadata": {},
     "output_type": "display_data"
    },
    {
     "name": "stdout",
     "output_type": "stream",
     "text": [
      " and \n"
     ]
    },
    {
     "data": {
      "text/latex": [
       "$$\\left \\langle \\nu(\\nu-1)(\\nu-2) \\right \\rangle$$"
      ],
      "text/plain": [
       "<IPython.core.display.Math object>"
      ]
     },
     "metadata": {},
     "output_type": "display_data"
    },
    {
     "name": "stdout",
     "output_type": "stream",
     "text": [
      " = \n",
      "-0.641648543425\n"
     ]
    },
    {
     "data": {
      "text/latex": [
       "$$\\sigma_{TKE}$$"
      ],
      "text/plain": [
       "<IPython.core.display.Math object>"
      ]
     },
     "metadata": {},
     "output_type": "display_data"
    },
    {
     "name": "stdout",
     "output_type": "stream",
     "text": [
      " and \n"
     ]
    },
    {
     "data": {
      "text/latex": [
       "$$\\left \\langle \\nu(\\nu-1)(\\nu-2) \\right \\rangle$$"
      ],
      "text/plain": [
       "<IPython.core.display.Math object>"
      ]
     },
     "metadata": {},
     "output_type": "display_data"
    },
    {
     "name": "stdout",
     "output_type": "stream",
     "text": [
      " = \n",
      "0.350213649294\n"
     ]
    },
    {
     "data": {
      "image/png": "[encoded data removed]",
      "text/plain": [
       "<matplotlib.figure.Figure at 0x7f9b7c02cba8>"
      ]
     },
     "metadata": {},
     "output_type": "display_data"
    }
   ],
   "source": [
    "x = [TKE,TKEu]\n",
    "y = [nn, nnm2, nnm3]\n",
    "xlabels = [r\"$\\overline{TKE}$ (MeV)\", r\"$\\sigma_{TKE}$ (MeV)\"]\n",
    "ylabels = [r'$\\overline{\\nu}$', r'$\\left \\langle \\nu(\\nu-1) \\right \\rangle$', r'$\\left \\langle \\nu(\\nu-1)(\\nu-2) \\right \\rangle$']\n",
    "\n",
    "plot_and_report(x,y,xlabels, ylabels)"
   ]
  },
  {
   "cell_type": "code",
   "execution_count": 84,
   "metadata": {},
   "outputs": [
    {
     "data": {
      "text/latex": [
       "$$\\overline{TKE}$ (MeV)$$"
      ],
      "text/plain": [
       "<IPython.core.display.Math object>"
      ]
     },
     "metadata": {},
     "output_type": "display_data"
    }
   ],
   "source": [
    "display(Math(\"$\\overline{TKE}$ (MeV)\"))"
   ]
  },
  {
   "cell_type": "code",
   "execution_count": null,
   "metadata": {},
   "outputs": [],
   "source": [
    "# Plot nn vs tke and moments\n",
    "\n",
    "fig = plt.figure(figsize=(18,18))\n",
    "\n",
    "plt.subplot(3,2,1,xlabel=r\"$\\overline{TKE}$ (MeV)\",ylabel=r'$\\overline{\\nu}$') \n",
    "plt.plot(TKE, nn, 'o')\n",
    "\n",
    "plt.subplot(3,2,2,xlabel=r\"$\\sigma_{\\overline{TKE}}$ (MeV)\",ylabel=r'$\\overline{\\nu}$') \n",
    "plt.plot(TKEu, nn, 'o')\n",
    "\n",
    "plt.subplot(3,2,3,xlabel=r\"$\\overline{TKE}$  (MeV)\",ylabel=r'$\\left \\langle \\nu(\\nu-1) \\right \\rangle$') \n",
    "plt.plot(TKE, nnm2, 'o')\n",
    "\n",
    "plt.subplot(3,2,4,xlabel=r\"$\\sigma_{\\overline{TKE}}$ (MeV)\",ylabel=r'$\\left \\langle \\nu(\\nu-1) \\right \\rangle$') \n",
    "plt.plot(TKEu, nnm2, 'o')\n",
    "\n",
    "plt.subplot(3,2,5,xlabel=r\"$\\overline{TKE}$  (MeV)\",ylabel=r'$\\left \\langle \\nu(\\nu-1)(\\nu-2) \\right \\rangle$') \n",
    "plt.plot(TKE, nnm3, 'o')\n",
    "\n",
    "plt.subplot(3,2,6,xlabel=r\"$\\sigma_{\\overline{TKE}}$ (MeV)\",ylabel=r'$\\left \\langle \\nu(\\nu-1)(\\nu-2) \\right \\rangle$') \n",
    "plt.plot(TKEu, nnm3, 'o')\n",
    "\n",
    "print(np.cov(np.array(nn).astype(float),np.array(TKE).astype(float)))\n",
    "print(np.corrcoef(np.array(nn).astype(float),np.array(TKE).astype(float)))\n",
    "print(variance(np.array(TKE).astype(float)))"
   ]
  },
  {
   "cell_type": "code",
   "execution_count": null,
   "metadata": {
    "collapsed": true
   },
   "outputs": [],
   "source": [
    "print(\"Correlation Coefficients\")\n"
   ]
  },
  {
   "cell_type": "code",
   "execution_count": null,
   "metadata": {},
   "outputs": [],
   "source": [
    "# Plot nn vs txe and moments\n",
    "\n",
    "fig = plt.figure(figsize=(18,18))\n",
    "\n",
    "plt.subplot(3,2,1,xlabel=r\"$\\overline{TXE}$ (MeV)\",ylabel=r'$\\overline{\\nu}$') \n",
    "plt.plot(TXE, nn, 'o')\n",
    "\n",
    "plt.subplot(3,2,2,xlabel=r\"$\\sigma_{\\overline{TXE}}$ (MeV)\",ylabel=r'$\\overline{\\nu}$') \n",
    "plt.plot(TXEu, nn, 'o')\n",
    "\n",
    "plt.subplot(3,2,3,xlabel=r\"$\\overline{TXE}$  (MeV)\",ylabel=r'$\\left \\langle \\nu(\\nu-1) \\right \\rangle$') \n",
    "plt.plot(TXE, nnm2, 'o')\n",
    "\n",
    "plt.subplot(3,2,4,xlabel=r\"$\\sigma_{\\overline{TXE}}$ (MeV)\",ylabel=r'$\\left \\langle \\nu(\\nu-1) \\right \\rangle$') \n",
    "plt.plot(TXEu, nnm2, 'o')\n",
    "\n",
    "plt.subplot(3,2,5,xlabel=r\"$\\overline{TXE}$  (MeV)\",ylabel=r'$\\left \\langle \\nu(\\nu-1)(\\nu-2) \\right \\rangle$') \n",
    "plt.plot(TXE, nnm3, 'o')\n",
    "\n",
    "plt.subplot(3,2,6,xlabel=r\"$\\sigma_{\\overline{TXE}}$ (MeV)\",ylabel=r'$\\left \\langle \\nu(\\nu-1)(\\nu-2) \\right \\rangle$') \n",
    "plt.plot(TXEu, nnm3, 'o')"
   ]
  },
  {
   "cell_type": "code",
   "execution_count": null,
   "metadata": {},
   "outputs": [],
   "source": [
    "# Plot ng vs tke and moments\n",
    "\n",
    "fig = plt.figure(figsize=(18,18))\n",
    "\n",
    "plt.subplot(3,2,1,xlabel=r\"$\\overline{TKE}$ (MeV)\",ylabel=r'$\\overline{N_{\\gamma}}$') \n",
    "plt.plot(TKE, ng, 'o')\n",
    "\n",
    "plt.subplot(3,2,2,xlabel=r\"$\\sigma_{\\overline{TKE}}$ (MeV)\",ylabel=r'$\\overline{N_{\\gamma}}$') \n",
    "plt.plot(TKEu, ng, 'o')\n",
    "\n",
    "plt.subplot(3,2,3,xlabel=r\"$\\overline{TKE}$  (MeV)\",ylabel=r'$\\left \\langle N_{\\gamma}(N_{\\gamma}-1) \\right \\rangle$') \n",
    "plt.plot(TKE, ngm2, 'o')\n",
    "\n",
    "plt.subplot(3,2,4,xlabel=r\"$\\sigma_{\\overline{TKE}}$ (MeV)\",ylabel=r'$\\left \\langle N_{\\gamma}(N_{\\gamma}-1) \\right \\rangle$') \n",
    "plt.plot(TKEu, ngm2, 'o')\n",
    "\n",
    "plt.subplot(3,2,5,xlabel=r\"$\\overline{TKE}$  (MeV)\",ylabel=r'$\\left \\langle N_{\\gamma}(N_{\\gamma}-1)(N_{\\gamma}-2) \\right \\rangle$') \n",
    "plt.plot(TKE, ngm3, 'o')\n",
    "\n",
    "plt.subplot(3,2,6,xlabel=r\"$\\sigma_{\\overline{TKE}}$ (MeV)\",ylabel=r'$\\left \\langle N_{\\gamma}(N_{\\gamma}-1)(N_{\\gamma}-2) \\right \\rangle$') \n",
    "plt.plot(TKEu, ngm3, 'o')"
   ]
  },
  {
   "cell_type": "code",
   "execution_count": null,
   "metadata": {},
   "outputs": [],
   "source": [
    "# Plot ng vs tke and moments\n",
    "\n",
    "fig = plt.figure(figsize=(18,18))\n",
    "\n",
    "plt.subplot(3,2,1,xlabel=r\"$\\overline{TXE}$ (MeV)\",ylabel=r'$\\overline{N_{\\gamma}}$') \n",
    "plt.plot(TXE, ng, 'o')\n",
    "\n",
    "plt.subplot(3,2,2,xlabel=r\"$\\sigma_{\\overline{TXE}}$ (MeV)\",ylabel=r'$\\overline{N_{\\gamma}}$') \n",
    "plt.plot(TXEu, ng, 'o')\n",
    "\n",
    "plt.subplot(3,2,3,xlabel=r\"$\\overline{TXE}$  (MeV)\",ylabel=r'$\\left \\langle N_{\\gamma}(N_{\\gamma}-1) \\right \\rangle$') \n",
    "plt.plot(TXE, ngm2, 'o')\n",
    "\n",
    "plt.subplot(3,2,4,xlabel=r\"$\\sigma_{\\overline{TXE}}$ (MeV)\",ylabel=r'$\\left \\langle N_{\\gamma}(N_{\\gamma}-1) \\right \\rangle$') \n",
    "plt.plot(TXEu, ngm2, 'o')\n",
    "\n",
    "plt.subplot(3,2,5,xlabel=r\"$\\overline{TXE}$  (MeV)\",ylabel=r'$\\left \\langle N_{\\gamma}(N_{\\gamma}-1)(N_{\\gamma}-2) \\right \\rangle$') \n",
    "plt.plot(TXE, ngm3, 'o')\n",
    "\n",
    "plt.subplot(3,2,6,xlabel=r\"$\\sigma_{\\overline{TXE}}$ (MeV)\",ylabel=r'$\\left \\langle N_{\\gamma}(N_{\\gamma}-1)(N_{\\gamma}-2) \\right \\rangle$') \n",
    "plt.plot(TXEu, ngm3, 'o')"
   ]
  },
  {
   "cell_type": "code",
   "execution_count": null,
   "metadata": {},
   "outputs": [],
   "source": [
    "# Plot ng vs tke and moments\n",
    "\n",
    "fig = plt.figure(figsize=(18,18))\n",
    "\n",
    "plt.subplot(3,3,1,ylabel=r'$\\overline{\\nu}$') \n",
    "plt.plot(ng, nn, 'o')\n",
    "\n",
    "plt.subplot(3,3,2) \n",
    "plt.plot(ngm2, nn, 'o')\n",
    "\n",
    "plt.subplot(3,3,3) \n",
    "plt.plot(ngm3, nn, 'o')\n",
    "\n",
    "plt.subplot(3,3,4,ylabel=r'$\\left \\langle \\nu(\\nu-1) \\right \\rangle$') \n",
    "plt.plot(ng, nnm2, 'o')\n",
    "\n",
    "plt.subplot(3,3,5) \n",
    "plt.plot(ngm2, nnm2, 'o')\n",
    "\n",
    "plt.subplot(3,3,6) \n",
    "plt.plot(ngm3, nnm2, 'o')\n",
    "\n",
    "plt.subplot(3,3,7,xlabel=r'$\\overline{N_{\\gamma}}$',ylabel=r'$\\left \\langle \\nu(\\nu-1)(\\nu-2) \\right \\rangle$') \n",
    "plt.plot(ng, nnm3, 'o')\n",
    "\n",
    "plt.subplot(3,3,8,xlabel=r'$\\left \\langle N_{\\gamma}(N_{\\gamma}-1) \\right \\rangle$') \n",
    "plt.plot(ngm2, nnm3, 'o')\n",
    "\n",
    "plt.subplot(3,3,9,xlabel=r'$\\left \\langle N_{\\gamma}(N_{\\gamma}-1)(N_{\\gamma}-2) \\right \\rangle$') \n",
    "plt.plot(ngm3, nnm3, 'o')"
   ]
  },
  {
   "cell_type": "code",
   "execution_count": null,
   "metadata": {},
   "outputs": [],
   "source": [
    "np.corrcoef(np.array(TKE).astype(float), np.array(nn).astype(float))"
   ]
  },
  {
   "cell_type": "code",
   "execution_count": null,
   "metadata": {
    "collapsed": true
   },
   "outputs": [],
   "source": []
  }
 ],
 "metadata": {
  "kernelspec": {
   "display_name": "Python 3",
   "language": "python",
   "name": "python3"
  },
  "language_info": {
   "codemirror_mode": {
    "name": "ipython",
    "version": 3
   },
   "file_extension": ".py",
   "mimetype": "text/x-python",
   "name": "python",
   "nbconvert_exporter": "python",
   "pygments_lexer": "ipython3",
   "version": "3.6.1"
  }
 },
 "nbformat": 4,
 "nbformat_minor": 2
}
