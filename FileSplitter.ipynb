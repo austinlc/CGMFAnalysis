{
 "cells": [
  {
   "cell_type": "markdown",
   "metadata": {},
   "source": [
    "# File Splitter"
   ]
  },
  {
   "cell_type": "code",
   "execution_count": 2,
   "metadata": {
    "collapsed": true
   },
   "outputs": [],
   "source": [
    "import numpy as np\n",
    "import scipy as sp\n",
    "import os\n",
    "from statistics import *\n",
    "from datetime import datetime"
   ]
  },
  {
   "cell_type": "code",
   "execution_count": 20,
   "metadata": {},
   "outputs": [
    {
     "name": "stdout",
     "output_type": "stream",
     "text": [
      "4999994\n"
     ]
    }
   ],
   "source": [
    "# Define original file path\n",
    "\n",
    "HISTORYFILE = \"hist-98252sf-CGMF.dat\"\n",
    "\n",
    "filepath = os.path.join(os.getcwd(),HISTORYFILE)\n",
    "\n",
    "f_in = open(filepath)\n",
    "\n",
    "numlines = sum(1 for line in f_in)\n",
    "#start file over\n",
    "f_in.seek(0)\n",
    "\n",
    "\n",
    "Num_histories = 10000\n",
    "\n",
    "\n",
    "print(numlines)\n",
    "\n",
    "outfileindex = 0\n",
    "\n",
    "headerstr = \"# 98252 0 30000 1.7\\n\"\n",
    "\n",
    "# skip first line (added to indifidual out files)\n",
    "f_in.readline()\n",
    "readlines = 1\n",
    "EOF = False\n",
    "\n",
    "while True:\n",
    "    outfileindex += 1\n",
    "    outstr = \"output\" + str(outfileindex) + \".txt\"\n",
    "    f_out_path = os.path.join(os.getcwd(),\"OutputFiles\",outstr)\n",
    "    f_out = open(f_out_path, 'a')\n",
    "    f_out.write(headerstr)\n",
    "    \n",
    "    for i in range(Num_histories):\n",
    "        #perform for both fragments\n",
    "        for j in range(2):\n",
    "            line = f_in.readline().split()\n",
    "            readlines += 1\n",
    "            if readlines >= numlines:\n",
    "                EOF = True\n",
    "                break\n",
    "\n",
    "            f_out.write(\" \".join(line) + '\\n')\n",
    "            \n",
    "            more_lines = 3\n",
    "\n",
    "            if int(line[6]) == 0:\n",
    "                more_lines -= 1\n",
    "            if int(line[7]) == 0:\n",
    "                more_lines -= 1\n",
    "            for k in range(more_lines):\n",
    "                line = f_in.readline().split()\n",
    "                f_out.write(\" \".join(line) + '\\n')\n",
    "                readlines += 1\n",
    "        if(EOF):\n",
    "            break\n",
    "    \n",
    "       \n",
    "    f_out.close() \n",
    "    if(EOF): \n",
    "        break\n",
    "        os.remove(f_out_path)\n",
    "f_in.close()  \n",
    "    "
   ]
  },
  {
   "cell_type": "code",
   "execution_count": 19,
   "metadata": {},
   "outputs": [
    {
     "name": "stdout",
     "output_type": "stream",
     "text": [
      "1534105\n",
      "4999994\n",
      "False\n"
     ]
    }
   ],
   "source": [
    "print(readlines)\n",
    "print(numlines)\n",
    "print(readlines >= numlines)"
   ]
  },
  {
   "cell_type": "code",
   "execution_count": null,
   "metadata": {
    "collapsed": true
   },
   "outputs": [],
   "source": []
  }
 ],
 "metadata": {
  "kernelspec": {
   "display_name": "Python 3",
   "language": "python",
   "name": "python3"
  },
  "language_info": {
   "codemirror_mode": {
    "name": "ipython",
    "version": 3
   },
   "file_extension": ".py",
   "mimetype": "text/x-python",
   "name": "python",
   "nbconvert_exporter": "python",
   "pygments_lexer": "ipython3",
   "version": "3.6.1"
  }
 },
 "nbformat": 4,
 "nbformat_minor": 2
}
